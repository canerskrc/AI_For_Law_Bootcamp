{
  "nbformat": 4,
  "nbformat_minor": 0,
  "metadata": {
    "colab": {
      "provenance": [],
      "authorship_tag": "ABX9TyOc8a8FbsLte1Z7NdX7fgmE",
      "include_colab_link": true
    },
    "kernelspec": {
      "name": "python3",
      "display_name": "Python 3"
    },
    "language_info": {
      "name": "python"
    }
  },
  "cells": [
    {
      "cell_type": "markdown",
      "metadata": {
        "id": "view-in-github",
        "colab_type": "text"
      },
      "source": [
        "<a href=\"https://colab.research.google.com/github/canerskrc/AI_For_Law_Bootcamp/blob/main/AI_Law_2.ipynb\" target=\"_parent\"><img src=\"https://colab.research.google.com/assets/colab-badge.svg\" alt=\"Open In Colab\"/></a>"
      ]
    },
    {
      "cell_type": "markdown",
      "source": [
        "**Sıralama Algoritmaları**"
      ],
      "metadata": {
        "id": "VyxYKNLLASU8"
      }
    },
    {
      "cell_type": "code",
      "execution_count": null,
      "metadata": {
        "colab": {
          "base_uri": "https://localhost:8080/"
        },
        "id": "J5YapFGXACZU",
        "outputId": "71f8fcbf-44ed-498d-c0af-8890822c5ce1"
      },
      "outputs": [
        {
          "output_type": "stream",
          "name": "stdout",
          "text": [
            "Sıralanmış Kişiler ['Ahmet', 'Ayşe', 'Fatma', 'Mehmet', 'Zeynep']\n"
          ]
        }
      ],
      "source": [
        "# Bubble Sort\n",
        "\n",
        "def bubble_sort(arr): # Fonksiyon sıralamak istediğimiz bir liste (arr) alır.\n",
        "  n = len(arr) # len= dizinin uzunluğu\n",
        "  for i in range(n): # tüm listeyi sıralamak için n kez çalışacak.\n",
        "    for j in range(0, n-i-1): # her bir adımda komşu elemanları karşılaştıracak. Gerektiğinde yer değiştirecek.\n",
        "      if arr[j] > arr[j+1]: # elemanları karşılaştırır ve eğer biri diğerinden büyükse iki eleman yer değiştirecek.\n",
        "        arr[j], arr[j+1] = arr[j+1], arr[j]\n",
        "\n",
        "kisi_listesi = [\"Zeynep\", \"Ahmet\",\"Mehmet\",\"Ayşe\",\"Fatma\"]\n",
        "bubble_sort(kisi_listesi)\n",
        "print(\"Sıralanmış Kişiler\", kisi_listesi)"
      ]
    },
    {
      "cell_type": "code",
      "source": [
        "# Search Alg.\n",
        "\n",
        "def linear_search(arr1, x): # arr1 = liste, x = aranan hedef değişken\n",
        "  for y in range(len(arr1)):\n",
        "    if arr1[y] == x:\n",
        "      return y\n",
        "  return -1\n",
        "\n",
        "belge_listesi=[\"sözleşme.pdf\",\"fatura.doc\",\"mahkeme_kararı.pdf\",\"anlaşma.txt\"]\n",
        "\n",
        "sonuc= linear_search(belge_listesi,\"mahkeme_kararı.pdf\")\n",
        "print(\"Belge Konumu: \", sonuc)"
      ],
      "metadata": {
        "colab": {
          "base_uri": "https://localhost:8080/"
        },
        "id": "JWXTS1XADR1E",
        "outputId": "acffe538-6a72-4743-afa2-75e2c445f5c8"
      },
      "execution_count": null,
      "outputs": [
        {
          "output_type": "stream",
          "name": "stdout",
          "text": [
            "Belge Konumu:  2\n"
          ]
        }
      ]
    },
    {
      "cell_type": "markdown",
      "source": [
        "**Dava Dosyalarını Tarihe Göre Sıralayıp Belirli Bir Dosyayı Arama**"
      ],
      "metadata": {
        "id": "S89fK6kCIGd0"
      }
    },
    {
      "cell_type": "code",
      "source": [
        "from datetime import datetime, timedelta # tarih verileriyle çalışmak için datetime, tarihler arasında işlemler yapmak için timedelta kullanılır."
      ],
      "metadata": {
        "id": "stSs3zyDGi_N"
      },
      "execution_count": null,
      "outputs": []
    },
    {
      "cell_type": "code",
      "source": [
        "import csv # veri seti dosyasının formatını kullanmak için.\n",
        "import random # verilerin random oluşması için kullanılır."
      ],
      "metadata": {
        "id": "txsB3uRjJYzW"
      },
      "execution_count": null,
      "outputs": []
    },
    {
      "cell_type": "code",
      "source": [
        "# rastgele tarihler oluşturmak için gerekli fonksiyon.\n",
        "def random_date(start, end):\n",
        "  delta = end - start\n",
        "  random_days = random.randrange(delta.days) # randrange rastgele aralık anlamını taşır.\n",
        "  return start + timedelta(days=random_days)\n",
        "\n",
        "start_date =datetime(2020,1,1)# parantez içindeki verinin bir tarih belirttiğini bilmesi için datetime kullanılır.\n",
        "end_date =datetime(2024,12,31)\n",
        "\n",
        "# rastgele veri seti oluşturma\n",
        "\n",
        "data = [\n",
        "    {\"dava_no\": w,\n",
        "     \"dava_adı\":f\"Dava {chr(65+w)}\", # {chr(65+w)} = Dava isimlerinin de random oluşturulmasını sağlar. 65 sayısı ASCII kodlarında A harfine tekabül eder. Dava A,Dava B şeklinde dava isimleri oluşturulmuş olur.\n",
        "     \"tarih\": random_date(start_date,end_date).strftime(\"%Y-%m-%d\"),\n",
        "     \"durum\":random.choice([\"Açık\",\"Kapanmış\"])}\n",
        "    for w in range(1,11) # dosyanın boyutunu ayarlar. 1 den başlar 11 e kadar veri oluşturur.\n",
        "]\n",
        "\n",
        "# CSV formatta dosya oluşturma\n",
        "\n",
        "csv_file = \"dava_dosyası.csv\"\n",
        "with open(csv_file, \"w\", newline=\"\") as file: # bir csv dosya açılır(open), içerisine w kadar veri girişi olur ve her bir w verisi bir alt satırda(newline) eklenir.\n",
        "  writer = csv.DictWriter(file, fieldnames=[\"dava_no\",\"dava_adı\",\"tarih\",\"durum\"]) # açılan dosyaya veri yazabilmek için bir değişken oluşturulur. yazılacak olan ifadeler fieldnames komutu ile belirtilir.\n",
        "  writer.writeheader()# yukarıda belirtilen fieldnames içindeki veriler sütun isimleri (başlık) olarak kabul edilir.\n",
        "  for row in data:\n",
        "    writer.writerow(row) # row ifadesiyle sütunlar yukarıda oluşturulan data verileri ile doldurulur.\n",
        "\n",
        "print(f\"Veri seti '{csv_file}' dosyasına başarıyla kaydedildi.\")\n"
      ],
      "metadata": {
        "colab": {
          "base_uri": "https://localhost:8080/"
        },
        "id": "OjvWeqB4OJt6",
        "outputId": "0ed14cdb-a03d-424e-98e7-98cee414bfd2"
      },
      "execution_count": null,
      "outputs": [
        {
          "output_type": "stream",
          "name": "stdout",
          "text": [
            "Veri seti 'dava_dosyası.csv' dosyasına başarıyla kaydedildi.\n"
          ]
        }
      ]
    },
    {
      "cell_type": "code",
      "source": [
        "csv_file1 = \"dava_dosyası.csv\"\n",
        "\n",
        "# belirli bir tarih arama fonksiyonu\n",
        "\n",
        "def dosya_arama(csv_file1, hedef_tarih):\n",
        "  with open(csv_file1, \"r\") as file: # belirtilen dosyayı aç ve \"r\" (read) modu ile dosyayı oku.\n",
        "    reader = csv.DictReader(file) # sözlük formatında dosya okuma. Her bir satır bir sözlük olarak elde edilir.\n",
        "    for row in reader: # her bir satırı döngüyle dolaşmak için döngü yazarız.\n",
        "      if row[\"tarih\"] == hedef_tarih: # tarih sütunundaki bulunan tarihle hedef tarih birbirine eşit ise\n",
        "        return row # o sütunu dönder.\n",
        "\n",
        "    return None # eşleşme yoksa None ifadesi dönderilsin.\n",
        "\n",
        "# aramak istediğimiz tarihi girme\n",
        "\n",
        "hedef_tarih = \"2025-11-19\"\n",
        "\n",
        "sonuc = dosya_arama(csv_file1, hedef_tarih)\n",
        "\n",
        "if sonuc:\n",
        "  print(f\"Belirtilen tarihte veri bulundu: {sonuc}\")\n",
        "else:\n",
        "  print(\"Belitilen tarihte veri bulunamadı.\")"
      ],
      "metadata": {
        "colab": {
          "base_uri": "https://localhost:8080/"
        },
        "id": "g6UWzHRuS_6P",
        "outputId": "b108eec9-2b66-46bf-bae0-ead59d799a35"
      },
      "execution_count": null,
      "outputs": [
        {
          "output_type": "stream",
          "name": "stdout",
          "text": [
            "Belitilen tarihte veri bulunamadı.\n"
          ]
        }
      ]
    },
    {
      "cell_type": "markdown",
      "source": [
        "**Makine Öğrenmesi**"
      ],
      "metadata": {
        "id": "egl4dYp8i4g5"
      }
    },
    {
      "cell_type": "markdown",
      "source": [
        "Gözetimsiz Öğrenme\n",
        "\n",
        "Verilerin anlamlarına dair herhangi bir ön bilgi olmadan verilerdeki ilişkileri bulma görevini yapan MÖ türüdür.\n",
        "\n",
        "İnsan gözetimi olmadan gerçekleşen işlemler.\n",
        "\n",
        "Bilgisinin olmadığı bir veri hakkında özet iç bilgiler elde edip bunları kümeleyen çalışma yapısıdır.\n",
        "\n",
        "Gözetimsiz öğrenme bilgisini olmadığı ( etiketsiz ) verilerle çalıştığı için elde ettiği sonuçlar ödüllendirme sistemi gibi işler.\n",
        "\n",
        "Yapılandırılmamış ( Gürültülü) Veriler= Veriler anlamsız, eksik değerler veya bilinmeyen değerleri içerebilir.\n",
        "\n",
        "Etiketsiz Veri = Sadece giriş verileri için değerler içerir. Hedef bir çıktı( değer ) yoktur.\n",
        "\n",
        "Gözetimsiz öğrenme için kullanılan 3 temel algoritma vardır:\n",
        "\n",
        "- Kümeleme = Verileri benzerliklerine göre kümelere ayırma işlemini gerçekleştiren algoritmalardır.\n",
        "K-Means Kümeleme\n",
        "\n",
        "- Boyutsal Azalma( Küçülme) = Mümkün olduğunca verileri koruyarak büyük boyuttaki verileri özellik azaltma tekniği ile küçültme işlemini gerçekleştirir.\n",
        "PCA (Temel Bileşen Analizi)\n",
        "\n",
        "- Topluluk Kurallı Öğrenme = Çok büyük yapıdaki veri setlerini parametrele arasındaki çok yararlı ilişkileri ayırıp bulan algoritma türüdür.\n",
        "Apriori (Tümevarım Yöntemini kullanır.)"
      ],
      "metadata": {
        "id": "8VEf6aCHjFWa"
      }
    },
    {
      "cell_type": "code",
      "source": [],
      "metadata": {
        "id": "0JP21IPypOOb"
      },
      "execution_count": null,
      "outputs": []
    },
    {
      "cell_type": "code",
      "source": [],
      "metadata": {
        "id": "jtqU9cfidU36"
      },
      "execution_count": null,
      "outputs": []
    }
  ]
}