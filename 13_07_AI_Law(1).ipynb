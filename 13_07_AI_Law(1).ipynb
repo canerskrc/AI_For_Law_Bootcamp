{
  "nbformat": 4,
  "nbformat_minor": 0,
  "metadata": {
    "colab": {
      "provenance": [],
      "authorship_tag": "ABX9TyOBj4fyGwqI3bzn3nt1nnSc",
      "include_colab_link": true
    },
    "kernelspec": {
      "name": "python3",
      "display_name": "Python 3"
    },
    "language_info": {
      "name": "python"
    }
  },
  "cells": [
    {
      "cell_type": "markdown",
      "metadata": {
        "id": "view-in-github",
        "colab_type": "text"
      },
      "source": [
        "<a href=\"https://colab.research.google.com/github/canerskrc/AI_For_Law_Bootcamp/blob/main/13_07_AI_Law(1).ipynb\" target=\"_parent\"><img src=\"https://colab.research.google.com/assets/colab-badge.svg\" alt=\"Open In Colab\"/></a>"
      ]
    },
    {
      "cell_type": "markdown",
      "source": [
        "**Değişkenler**"
      ],
      "metadata": {
        "id": "4DQfyQjS5fX9"
      }
    },
    {
      "cell_type": "code",
      "execution_count": 7,
      "metadata": {
        "colab": {
          "base_uri": "https://localhost:8080/"
        },
        "id": "_9OlE-Ch3lEO",
        "outputId": "6e867a9e-05ce-42be-a553-59cba7265e6b"
      },
      "outputs": [
        {
          "output_type": "stream",
          "name": "stdout",
          "text": [
            "10 3.14 Python True\n"
          ]
        }
      ],
      "source": [
        "x = 10\n",
        "y = 3.14\n",
        "_isim = \"Python\"\n",
        "b = True\n",
        "print(x,y,_isim,b)"
      ]
    },
    {
      "cell_type": "markdown",
      "source": [
        "Değişkenler belli değerleri elinde tutan belleklerdir.\n",
        "\n",
        "Değişken tanımlarken harfler, alt çizgi karakteri kullanılabilir ancak sayı kullanılamaz.\n",
        "\n",
        "Değişkenlerin elinde tuttuğu veri tipleri :\n",
        "\n",
        "Tam sayılar: (integer/int) 1,2,3,4,...\n",
        "\n",
        "Ondalıklı sayılar: ( Float ) 3.14 , 5.8\n",
        "\n",
        "Metin (String): \"python\", 'python', '''python'''\n",
        "\n",
        "Boolean ( Mantıksal İfadeler ): True ve False\n",
        "\n",
        "Liste : [1,\"caner\",3.24,....]\n",
        "\n",
        "Sözlük: {\"giyim\":\"pantolon\",\"tişört\"} anahtar-değer ilişkisi vardır.\n",
        "giyim: anahtarı ifade eder ( key )\n",
        "pantolon, tişört.... değeri ifade eder.\n"
      ],
      "metadata": {
        "id": "1XoFit_k6egr"
      }
    },
    {
      "cell_type": "markdown",
      "source": [
        "''' Caner'in akşam 19.00'da online eğitimi var.'''"
      ],
      "metadata": {
        "id": "1QUAqj3R7iWj"
      }
    },
    {
      "cell_type": "code",
      "source": [
        "print(type(b)) #değişken türünü öğrenmek için type() komutu kullanılır."
      ],
      "metadata": {
        "colab": {
          "base_uri": "https://localhost:8080/"
        },
        "id": "nmC8pRsn6bMY",
        "outputId": "a6daee76-c14f-41ad-9741-801b532a5001"
      },
      "execution_count": 8,
      "outputs": [
        {
          "output_type": "stream",
          "name": "stdout",
          "text": [
            "<class 'bool'>\n"
          ]
        }
      ]
    },
    {
      "cell_type": "markdown",
      "source": [
        "**Operatörler**"
      ],
      "metadata": {
        "id": "qOBaZxBi-f26"
      }
    },
    {
      "cell_type": "markdown",
      "source": [
        "İki ve daha fazla değişken arasında işlem yapabilmek için kullanılır.\n",
        "\n",
        "Aritmetik operatörler\n",
        "\n",
        "Karşılaştırma Opr.\n",
        "\n",
        "Mantıksal Opr.\n",
        "\n",
        "Atama Opr.\n",
        "\n",
        "Bitwise Opr.\n"
      ],
      "metadata": {
        "id": "2M60Ij-T-246"
      }
    },
    {
      "cell_type": "code",
      "source": [
        "a = 5\n",
        "c = 2\n",
        "\n",
        "print(a+c)\n",
        "print(a-c)\n",
        "print(a*c)\n",
        "print(a/c)\n",
        "print(a%c) # mod alma/ bölümden kalanı bulma\n",
        "print(a**c) # üs alma\n",
        "print(a//c) # tam sayı bölme"
      ],
      "metadata": {
        "colab": {
          "base_uri": "https://localhost:8080/"
        },
        "id": "qhoNFdad9pxb",
        "outputId": "65c5d7a8-636b-4c83-a5a2-5c68d2066531"
      },
      "execution_count": 11,
      "outputs": [
        {
          "output_type": "stream",
          "name": "stdout",
          "text": [
            "7\n",
            "3\n",
            "10\n",
            "2.5\n",
            "1\n",
            "25\n",
            "2\n"
          ]
        }
      ]
    },
    {
      "cell_type": "markdown",
      "source": [
        "**karşılaştırma opr.**"
      ],
      "metadata": {
        "id": "xulLszjvBpnC"
      }
    },
    {
      "cell_type": "code",
      "source": [
        "print(\"Eşit mi\", a==c)\n",
        "print(\"Eşit Değil mi \", a!=c)\n",
        "print(\"Büyüktür mü\", a>c)\n",
        "print(\"Küçüktür mü\", a<c)\n",
        "print(\"Büyüktür Eşit mi\", a>=c)\n",
        "print(\"Küçüktür Eşit mi\", a<=c)"
      ],
      "metadata": {
        "colab": {
          "base_uri": "https://localhost:8080/"
        },
        "id": "riGB1VXWAmwW",
        "outputId": "9039e001-e8bd-4658-e3f6-c9411cb85a9c"
      },
      "execution_count": 12,
      "outputs": [
        {
          "output_type": "stream",
          "name": "stdout",
          "text": [
            "Eşit mi False\n",
            "Eşit Değil mi  True\n",
            "Büyüktür mü True\n",
            "Küçüktür mü False\n",
            "Büyüktür Eşit mi True\n",
            "Küçüktür Eşit mi False\n"
          ]
        }
      ]
    },
    {
      "cell_type": "markdown",
      "source": [
        "**Mantıksal Opr.**"
      ],
      "metadata": {
        "id": "BG9PnLF5BwNB"
      }
    },
    {
      "cell_type": "code",
      "source": [
        "z = True\n",
        "t = False\n",
        "print(z and t) # ve opr. çıktısı: False\n",
        "print(z or t) # veya opr. çıktısı: True\n",
        "print(not z) # not opr. çıktısı: False"
      ],
      "metadata": {
        "colab": {
          "base_uri": "https://localhost:8080/"
        },
        "id": "AaAVAZd2Bdwv",
        "outputId": "4207ecb8-c44c-463e-ad4f-e2c4ddcd248e"
      },
      "execution_count": 13,
      "outputs": [
        {
          "output_type": "stream",
          "name": "stdout",
          "text": [
            "False\n",
            "True\n",
            "False\n"
          ]
        }
      ]
    },
    {
      "cell_type": "markdown",
      "source": [
        "**Atama Opr.**"
      ],
      "metadata": {
        "id": "ZLi_lCfUCl75"
      }
    },
    {
      "cell_type": "code",
      "source": [
        "w = 19\n",
        "w += 2\n",
        "print(w)\n",
        "\n",
        "w -=2\n",
        "print(w)\n",
        "\n",
        "w *=2\n",
        "print(w)\n",
        "\n",
        "w /=2\n",
        "print(w)\n",
        "\n",
        "w %=3\n",
        "print(w)\n",
        "\n",
        "w **=2\n",
        "print(w)\n",
        "\n",
        "w //=2\n",
        "print(w)"
      ],
      "metadata": {
        "colab": {
          "base_uri": "https://localhost:8080/"
        },
        "id": "gb7b7n_ACVOJ",
        "outputId": "ec59ade7-4ef5-4ef8-96cd-0330cc435660"
      },
      "execution_count": 19,
      "outputs": [
        {
          "output_type": "stream",
          "name": "stdout",
          "text": [
            "21\n",
            "19\n",
            "38\n",
            "19.0\n",
            "1.0\n",
            "1.0\n",
            "0.0\n"
          ]
        }
      ]
    },
    {
      "cell_type": "markdown",
      "source": [
        "**Kontrol Yapıları**"
      ],
      "metadata": {
        "id": "XLKowJMlHTVv"
      }
    },
    {
      "cell_type": "code",
      "source": [
        "yas = 1\n",
        "if yas >= 18:\n",
        "  print(\"Reşitsiniz\")\n",
        "#if yas < 18:\n",
        "#  print(\"Reşit değilsiniz\")\n",
        "else:\n",
        "  print(\"Reşit değilsiniz\")\n"
      ],
      "metadata": {
        "colab": {
          "base_uri": "https://localhost:8080/"
        },
        "id": "JhJ6AE13C2yr",
        "outputId": "7a9b705f-6068-472d-ead8-f2e30f6ee209"
      },
      "execution_count": 21,
      "outputs": [
        {
          "output_type": "stream",
          "name": "stdout",
          "text": [
            "Reşit değilsiniz\n"
          ]
        }
      ]
    },
    {
      "cell_type": "code",
      "source": [
        "# For döngüsü\n",
        "\n",
        "for i in ifadeler:\n",
        "  print(i)"
      ],
      "metadata": {
        "colab": {
          "base_uri": "https://localhost:8080/"
        },
        "id": "Jmp9yi5LH9U4",
        "outputId": "7cf3b592-d94c-44f6-b514-15f1dbc379c1"
      },
      "execution_count": 22,
      "outputs": [
        {
          "output_type": "stream",
          "name": "stdout",
          "text": [
            "0\n",
            "1\n",
            "2\n",
            "3\n",
            "4\n"
          ]
        }
      ]
    },
    {
      "cell_type": "code",
      "source": [
        "count = 0\n",
        "while count <10:\n",
        "  print(count)\n",
        "  count +=1"
      ],
      "metadata": {
        "colab": {
          "base_uri": "https://localhost:8080/"
        },
        "id": "clhPy_NhJw0u",
        "outputId": "9ddc3b13-ecac-40dc-acd3-2ccb9a3a3f25"
      },
      "execution_count": 23,
      "outputs": [
        {
          "output_type": "stream",
          "name": "stdout",
          "text": [
            "0\n",
            "1\n",
            "2\n",
            "3\n",
            "4\n",
            "5\n",
            "6\n",
            "7\n",
            "8\n",
            "9\n"
          ]
        }
      ]
    },
    {
      "cell_type": "markdown",
      "source": [
        "**Fonksiyonlar**"
      ],
      "metadata": {
        "id": "_P4X3EquLvZH"
      }
    },
    {
      "cell_type": "code",
      "source": [
        "def greet (name): # def = fonksiyon oluşturma metodu, greet = fonksiyon adı, (name) = fonksiyonumuzun alacağı parametre\n",
        "  return f\"Merhaba, {name}\"\n",
        "# fonksiyon çağırma\n",
        "\n",
        "print(greet(\"Caner\"))\n"
      ],
      "metadata": {
        "colab": {
          "base_uri": "https://localhost:8080/"
        },
        "id": "wuWic7XzKEMF",
        "outputId": "043e7fbd-0999-4e60-da08-5f23a924192d"
      },
      "execution_count": 24,
      "outputs": [
        {
          "output_type": "stream",
          "name": "stdout",
          "text": [
            "Merhaba, Caner\n"
          ]
        }
      ]
    },
    {
      "cell_type": "code",
      "source": [
        "def kare_al(sayi):\n",
        "  return sayi**2\n",
        "\n",
        "# fonksiyon çağırma\n",
        "\n",
        "kullanici_girdisi = input(\"Bir sayi giriniz: \")\n",
        "sayi = int(kullanici_girdisi)\n",
        "print(kare_al(sayi))"
      ],
      "metadata": {
        "colab": {
          "base_uri": "https://localhost:8080/"
        },
        "id": "L6sZq8BbNFGo",
        "outputId": "75df77a5-0a70-4fa9-d37c-c00ad8f2bf71"
      },
      "execution_count": 27,
      "outputs": [
        {
          "output_type": "stream",
          "name": "stdout",
          "text": [
            "Bir sayi giriniz: 9\n",
            "81\n"
          ]
        }
      ]
    },
    {
      "cell_type": "code",
      "source": [
        "def karar_ver(dava_turu, kanitlar):\n",
        "  # dava türüne göre karar verme\n",
        "  if dava_turu == \"ceza\":\n",
        "    if \"delil\" in kanitlar and \"tanik\" in kanitlar:\n",
        "      return \"Suçlu\"\n",
        "    else:\n",
        "      return \"Beraat\"\n",
        "  elif dava_turu ==\"medeni\":\n",
        "    if \"sozlesme\" in kanitlar:\n",
        "      return \"Hakli\"\n",
        "    else:\n",
        "      return \"Haksız\"\n",
        "  else:\n",
        "    return \"Geçersiz Dava Türü\"\n",
        "\n",
        "# kullanıcıdan dava türünü ve kanıtları girmesini iste\n",
        "\n",
        "dava_turu = input(\"Dava Türünü Giriniz: ( ceza/medeni ): \")\n",
        "kanitlar = input(\"Kanıtları virgülle ayırarak giriniz( örneğin : delil,tanik,sözleşme):\").split(\",\") # split( ) her bir veri arasındaki ayrım sembolünü gösterir.\n",
        "\n",
        "# Karar verme fonksiyonunu çağır\n",
        "\n",
        "sonuc = karar_ver(dava_turu,kanitlar)\n",
        "\n",
        "# sonucu ekranda göster\n",
        "\n",
        "print(f\"Dava sonucu: {sonuc}\")"
      ],
      "metadata": {
        "colab": {
          "base_uri": "https://localhost:8080/",
          "height": 373
        },
        "id": "GbsE2V_PN-7J",
        "outputId": "1e84e2bf-3a60-4bbd-f4d5-355d213d6b53"
      },
      "execution_count": 39,
      "outputs": [
        {
          "output_type": "error",
          "ename": "KeyboardInterrupt",
          "evalue": "Interrupted by user",
          "traceback": [
            "\u001b[0;31m---------------------------------------------------------------------------\u001b[0m",
            "\u001b[0;31mKeyboardInterrupt\u001b[0m                         Traceback (most recent call last)",
            "\u001b[0;32m<ipython-input-39-2764e9051abf>\u001b[0m in \u001b[0;36m<cell line: 18>\u001b[0;34m()\u001b[0m\n\u001b[1;32m     16\u001b[0m \u001b[0;31m# kullanıcıdan dava türünü ve kanıtları girmesini iste\u001b[0m\u001b[0;34m\u001b[0m\u001b[0;34m\u001b[0m\u001b[0m\n\u001b[1;32m     17\u001b[0m \u001b[0;34m\u001b[0m\u001b[0m\n\u001b[0;32m---> 18\u001b[0;31m \u001b[0mdava_turu\u001b[0m \u001b[0;34m=\u001b[0m \u001b[0minput\u001b[0m\u001b[0;34m(\u001b[0m\u001b[0;34m\"Dava Türünü Giriniz: ( ceza/medeni ): \"\u001b[0m\u001b[0;34m)\u001b[0m\u001b[0;34m\u001b[0m\u001b[0;34m\u001b[0m\u001b[0m\n\u001b[0m\u001b[1;32m     19\u001b[0m \u001b[0mkanitlar\u001b[0m \u001b[0;34m=\u001b[0m \u001b[0minput\u001b[0m\u001b[0;34m(\u001b[0m\u001b[0;34m\"Kanıtları virgülle ayırarak giriniz( örneğin : delil,tanik,sözleşme):\"\u001b[0m\u001b[0;34m)\u001b[0m\u001b[0;34m.\u001b[0m\u001b[0msplit\u001b[0m\u001b[0;34m(\u001b[0m\u001b[0;34m\",\"\u001b[0m\u001b[0;34m)\u001b[0m \u001b[0;31m# split( ) her bir veri arasındaki ayrım sembolünü gösterir.\u001b[0m\u001b[0;34m\u001b[0m\u001b[0;34m\u001b[0m\u001b[0m\n\u001b[1;32m     20\u001b[0m \u001b[0;34m\u001b[0m\u001b[0m\n",
            "\u001b[0;32m/usr/local/lib/python3.10/dist-packages/ipykernel/kernelbase.py\u001b[0m in \u001b[0;36mraw_input\u001b[0;34m(self, prompt)\u001b[0m\n\u001b[1;32m    849\u001b[0m                 \u001b[0;34m\"raw_input was called, but this frontend does not support input requests.\"\u001b[0m\u001b[0;34m\u001b[0m\u001b[0;34m\u001b[0m\u001b[0m\n\u001b[1;32m    850\u001b[0m             )\n\u001b[0;32m--> 851\u001b[0;31m         return self._input_request(str(prompt),\n\u001b[0m\u001b[1;32m    852\u001b[0m             \u001b[0mself\u001b[0m\u001b[0;34m.\u001b[0m\u001b[0m_parent_ident\u001b[0m\u001b[0;34m,\u001b[0m\u001b[0;34m\u001b[0m\u001b[0;34m\u001b[0m\u001b[0m\n\u001b[1;32m    853\u001b[0m             \u001b[0mself\u001b[0m\u001b[0;34m.\u001b[0m\u001b[0m_parent_header\u001b[0m\u001b[0;34m,\u001b[0m\u001b[0;34m\u001b[0m\u001b[0;34m\u001b[0m\u001b[0m\n",
            "\u001b[0;32m/usr/local/lib/python3.10/dist-packages/ipykernel/kernelbase.py\u001b[0m in \u001b[0;36m_input_request\u001b[0;34m(self, prompt, ident, parent, password)\u001b[0m\n\u001b[1;32m    893\u001b[0m             \u001b[0;32mexcept\u001b[0m \u001b[0mKeyboardInterrupt\u001b[0m\u001b[0;34m:\u001b[0m\u001b[0;34m\u001b[0m\u001b[0;34m\u001b[0m\u001b[0m\n\u001b[1;32m    894\u001b[0m                 \u001b[0;31m# re-raise KeyboardInterrupt, to truncate traceback\u001b[0m\u001b[0;34m\u001b[0m\u001b[0;34m\u001b[0m\u001b[0m\n\u001b[0;32m--> 895\u001b[0;31m                 \u001b[0;32mraise\u001b[0m \u001b[0mKeyboardInterrupt\u001b[0m\u001b[0;34m(\u001b[0m\u001b[0;34m\"Interrupted by user\"\u001b[0m\u001b[0;34m)\u001b[0m \u001b[0;32mfrom\u001b[0m \u001b[0;32mNone\u001b[0m\u001b[0;34m\u001b[0m\u001b[0;34m\u001b[0m\u001b[0m\n\u001b[0m\u001b[1;32m    896\u001b[0m             \u001b[0;32mexcept\u001b[0m \u001b[0mException\u001b[0m \u001b[0;32mas\u001b[0m \u001b[0me\u001b[0m\u001b[0;34m:\u001b[0m\u001b[0;34m\u001b[0m\u001b[0;34m\u001b[0m\u001b[0m\n\u001b[1;32m    897\u001b[0m                 \u001b[0mself\u001b[0m\u001b[0;34m.\u001b[0m\u001b[0mlog\u001b[0m\u001b[0;34m.\u001b[0m\u001b[0mwarning\u001b[0m\u001b[0;34m(\u001b[0m\u001b[0;34m\"Invalid Message:\"\u001b[0m\u001b[0;34m,\u001b[0m \u001b[0mexc_info\u001b[0m\u001b[0;34m=\u001b[0m\u001b[0;32mTrue\u001b[0m\u001b[0;34m)\u001b[0m\u001b[0;34m\u001b[0m\u001b[0;34m\u001b[0m\u001b[0m\n",
            "\u001b[0;31mKeyboardInterrupt\u001b[0m: Interrupted by user"
          ]
        }
      ]
    },
    {
      "cell_type": "markdown",
      "source": [
        "# ALGORİTMA TÜRLERİ"
      ],
      "metadata": {
        "id": "Oa07jjoBaJuw"
      }
    },
    {
      "cell_type": "markdown",
      "source": [
        "\n",
        "Arama Algoritmaları = Bir sıralı liste içerisinde bir elemanın varlığını bulmak için hızlı bir şekilde yapan algoritmalara arama algoritmaları denir.Binary Search ( İkili Arama )\n",
        "\n",
        "Sıralama Algoritmaları =  Bir liste içerisindeki verileri büyükten küçüğe veya küçükten büyüğe sıralar.\n",
        "\n",
        "Karar Verme Algoritmaları = Belirli bir koşul altında karar verme sürecini otomatize etmek için kullanılan algoritmalardır.\n",
        "\n",
        "Veri Madenciliği Algoritmaları = Veri kümesini belirli bir kritere göre gruplara ayıran algoritmalardır.\n",
        "\n"
      ],
      "metadata": {
        "id": "y9b4YograSKC"
      }
    },
    {
      "cell_type": "code",
      "source": [
        "liste =[mahkeme,sözleşmeler,faturalar,anlaşmalar,personel]\n",
        "binary_search(faturalar)\n",
        "\n",
        "isimler =[ahmet,zeynep,ali,veli,yakup,Fatma,]\n",
        "sort(isimler)\n",
        "\n"
      ],
      "metadata": {
        "id": "LMHfCsFxaNSc"
      },
      "execution_count": null,
      "outputs": []
    },
    {
      "cell_type": "code",
      "source": [
        "import pandas as pd\n",
        "import numpy as np"
      ],
      "metadata": {
        "id": "6W5Gr8rzfa7T"
      },
      "execution_count": 40,
      "outputs": []
    },
    {
      "cell_type": "markdown",
      "source": [
        "Makine Öğrenmesi Kavramları =\n",
        "\n",
        "Gözetimli Öğrenme  = Tahminleme ve sınıflandırma problemlerinde kullanılan ML türüdür.\n",
        "\n",
        "Gözetimsiz Öğrenme = Kümeleme problemlerinde kullandığımız ML türüdür.\n",
        "\n",
        "Etiket (Label )= Gözetimli öğrenme uygulanırken verilerin adlandırılması için kullanılan tekniktir.\n",
        "\n",
        "Eğitim Veriler = Algoritma bu verileri kullanarak ne yapacağını öğrenir.\n",
        "\n",
        "Test Verileri = algoritmanın doruluğu kesinliği hesaplanması için kullanılan verilerdir.\n",
        "\n",
        "Model = Bir veri üzerinde eğitilen ve belirli bir görevi yapmasını istediğimiz matematiksel bir temsildir.\n",
        "\n"
      ],
      "metadata": {
        "id": "BhoDORuxgzHr"
      }
    },
    {
      "cell_type": "code",
      "source": [],
      "metadata": {
        "id": "d1JX8EtZffG2"
      },
      "execution_count": null,
      "outputs": []
    }
  ]
}